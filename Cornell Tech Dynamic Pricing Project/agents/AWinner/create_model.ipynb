{
 "cells": [
  {
   "cell_type": "code",
   "execution_count": 1,
   "metadata": {},
   "outputs": [],
   "source": [
    "import pickle\n",
    "from sklearn.linear_model import LinearRegression\n",
    "from sklearn.linear_model import LogisticRegression\n",
    "from sklearn.model_selection import train_test_split\n",
    "from sklearn.metrics import accuracy_score\n",
    "\n",
    "import numpy as np\n",
    "\n",
    "import pandas as pd"
   ]
  },
  {
   "cell_type": "code",
   "execution_count": 2,
   "metadata": {},
   "outputs": [],
   "source": [
    "train_pricing_decisions = pd.read_csv('../../data/train_prices_decisions.csv')\n",
    "test_user_info = pd.read_csv('../../data/test_user_info.csv')"
   ]
  },
  {
   "cell_type": "code",
   "execution_count": 3,
   "metadata": {},
   "outputs": [],
   "source": [
    "X = train_pricing_decisions[['Covariate1', 'Covariate2', 'Covariate3', 'price_item_0', 'price_item_1']]\n",
    "y = train_pricing_decisions['item_bought'].map({-1: 2, 0:0, 1:1})"
   ]
  },
  {
   "cell_type": "code",
   "execution_count": 4,
   "metadata": {},
   "outputs": [],
   "source": [
    "X_train, X_test, y_train, y_test = train_test_split(X, y, test_size=0.33, random_state=42)"
   ]
  },
  {
   "cell_type": "code",
   "execution_count": 5,
   "metadata": {},
   "outputs": [],
   "source": [
    "# from sklearn.ensemble import GradientBoostingClassifier\n",
    "# clf = GradientBoostingClassifier(n_estimators=100, learning_rate=1.0, max_depth=20, random_state=0).fit(X_train, y_train)\n",
    "# clf.score(X_test, y_test)"
   ]
  },
  {
   "cell_type": "code",
   "execution_count": 6,
   "metadata": {},
   "outputs": [
    {
     "name": "stderr",
     "output_type": "stream",
     "text": [
      "/Users/cindy/anaconda3/lib/python3.11/site-packages/xgboost/core.py:617: FutureWarning: Pass `objective` as keyword args.\n",
      "  warnings.warn(msg, FutureWarning)\n"
     ]
    },
    {
     "name": "stdout",
     "output_type": "stream",
     "text": [
      "Fitting 5 folds for each of 81 candidates, totalling 405 fits\n",
      "Best Parameters found:  {'learning_rate': 0.2, 'max_depth': 5, 'min_child_weight': 5, 'n_estimators': 200}\n",
      "Best Parameters found:  0.9628358208955223\n"
     ]
    }
   ],
   "source": [
    "import xgboost\n",
    "from sklearn.model_selection import GridSearchCV\n",
    "\n",
    "param_grid = {\n",
    "    'max_depth' : [3, 4, 5],\n",
    "    'min_child_weight' : [1,5,10],\n",
    "    'learning_rate' : [0.01, 0.1, 0.2],\n",
    "    'n_estimators' : [100, 200, 300]\n",
    "}\n",
    "clf = xgboost.XGBClassifier('multi:softmax')\n",
    "grid_search = GridSearchCV(estimator=clf, param_grid=param_grid, scoring='accuracy', cv=5, verbose=1)\n",
    "\n",
    "grid_search.fit(X_train, y_train)\n",
    "print(\"Best Parameters found: \", grid_search.best_params_)\n",
    "print(\"Best Parameters found: \", grid_search.best_score_)\n",
    "\n",
    "clf = grid_search"
   ]
  },
  {
   "cell_type": "code",
   "execution_count": 7,
   "metadata": {},
   "outputs": [],
   "source": [
    "# y_pred = clf.predict(X_test)\n",
    "# accuracy_score(y_test, y_pred)"
   ]
  },
  {
   "cell_type": "markdown",
   "metadata": {},
   "source": [
    "## Generating prices for test users"
   ]
  },
  {
   "cell_type": "code",
   "execution_count": 8,
   "metadata": {},
   "outputs": [],
   "source": [
    "# ## based on training dataset\n",
    "# test_user_info_df = test_user_info[['Covariate1', 'Covariate2', 'Covariate3']]\n",
    "\n",
    "# price_sequence = np.linspace(0, 100, 10)\n",
    "# price_sequence_0 = np.linspace(50, 1000, 10)\n",
    "\n",
    "# df_result = pd.DataFrame()\n",
    "\n",
    "# for index, user in test_user_info_df.iterrows():\n",
    "#     user_single = user.to_frame().T\n",
    "#     user = pd.concat([user_single]*100, ignore_index=True)\n",
    "\n",
    "#     for i in range(len(user)):\n",
    "#         user.at[i, 'price_item_0'] = price_sequence_0[(i // len(price_sequence_0)) - 1]\n",
    "#         user.at[i, 'price_item_1'] = price_sequence[i % len(price_sequence)]\n",
    "\n",
    "\n",
    "#     probabilities = clf.predict_proba(user)\n",
    "\n",
    "#     user[['p0', 'p1', 'p2']] = probabilities\n",
    "#     user['revenue'] = user['price_item_0'] * user['p0'] + user['price_item_1'] * user['p1']\n",
    "\n",
    "#     ## finding \n",
    "#     optimal_price_0 = user.loc[np.argmax(user['revenue']), 'price_item_0']\n",
    "#     optimal_price_1 = user.loc[np.argmax(user['revenue']), 'price_item_1']\n",
    "\n",
    "#     ## narrow down the range and find a better price\n",
    "#     tmp = [-5, -4, -3, -2, -1, 0, 1, 2, 3, 4, 5]\n",
    "#     price_sequence_optimized_item_0 =  np.array([optimal_price_0]*11) + np.array(tmp)\n",
    "#     price_sequence_optimized_item_1 =  np.array([optimal_price_1]*11) + np.array(tmp)\n",
    "\n",
    "#     user_optimized = pd.concat([user_single]*100, ignore_index=True)\n",
    "#     for i in range(len(user)):\n",
    "#         user_optimized.at[i, 'price_item_0'] = price_sequence_optimized_item_0[(i // len(price_sequence_0)) - 1]\n",
    "#         user_optimized.at[i, 'price_item_1'] = price_sequence_optimized_item_1[i % len(price_sequence)]\n",
    "\n",
    "#     probabilities = clf.predict_proba(user_optimized)\n",
    "\n",
    "#     user_optimized[['p0', 'p1', 'p2']] = probabilities\n",
    "#     user_optimized['revenue'] = user_optimized['price_item_0'] * user_optimized['p0'] + user_optimized['price_item_1'] * user_optimized['p1']\n",
    "\n",
    "#     # optimal_optimal price\n",
    "#     optimal_optimal_price_0 = user_optimized.loc[np.argmax(user_optimized['revenue']), 'price_item_0']\n",
    "#     optimal_optimal_price_1 = user_optimized.loc[np.argmax(user_optimized['revenue']), 'price_item_1']\n",
    "\n",
    "#     expected_revenue = user_optimized.loc[np.argmax(user_optimized['revenue']), 'revenue']\n",
    "\n",
    "#     df_result.loc[index, 'user_index'] = int(index + 30000)\n",
    "#     df_result.loc[index, 'price_item_0'] = optimal_optimal_price_0\n",
    "#     df_result.loc[index, 'price_item_1'] = optimal_optimal_price_1\n",
    "#     df_result.loc[index, 'expected_revenue'] = expected_revenue\n",
    "\n",
    "# df_result.set_index('user_index', inplace=True)\n",
    "# # Convert the index to integer type\n",
    "# df_result.index = df_result.index.astype(int)\n",
    "\n",
    "\n",
    "# ### saving csv file\n",
    "# df_result.to_csv('../part2_static_prices_submission.csv')\n"
   ]
  },
  {
   "cell_type": "code",
   "execution_count": 10,
   "metadata": {},
   "outputs": [],
   "source": [
    "picklefile = open('trained_model', 'wb')\n",
    "#pickle the object and store it in a file\n",
    "pickle.dump(clf, picklefile)"
   ]
  },
  {
   "cell_type": "code",
   "execution_count": 11,
   "metadata": {},
   "outputs": [],
   "source": [
    "#check that the object is correctly pickled and works when unpickled\n",
    "del clf\n",
    "picklefile = open('trained_model', 'rb')\n",
    "new_model = pickle.load(picklefile)\n",
    "# new_model.predict(np.array([1,2,3]).reshape(1,-1))"
   ]
  },
  {
   "cell_type": "code",
   "execution_count": null,
   "metadata": {},
   "outputs": [],
   "source": []
  }
 ],
 "metadata": {
  "interpreter": {
   "hash": "ae59d0c6802fa4cc74e6f00c8a0e0638f193dc9411aa6b0be950b1611a93dcdb"
  },
  "kernelspec": {
   "display_name": "Python 3.8.8 64-bit ('base': conda)",
   "language": "python",
   "name": "python3"
  },
  "language_info": {
   "codemirror_mode": {
    "name": "ipython",
    "version": 3
   },
   "file_extension": ".py",
   "mimetype": "text/x-python",
   "name": "python",
   "nbconvert_exporter": "python",
   "pygments_lexer": "ipython3",
   "version": "3.11.4"
  },
  "orig_nbformat": 4
 },
 "nbformat": 4,
 "nbformat_minor": 2
}
